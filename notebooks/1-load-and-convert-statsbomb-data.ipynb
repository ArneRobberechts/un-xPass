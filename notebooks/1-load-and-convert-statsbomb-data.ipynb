{
 "cells": [
  {
   "cell_type": "markdown",
   "id": "03a55a9e",
   "metadata": {},
   "source": [
    "# Raw data preparation\n",
    "\n",
    "This notebook explains the data pre-processing pipeline on the public EURO 2020 dataset provided by StatsBomb. The following steps are performed:\n",
    "\n",
    "- Create a local SQlite database for storing the data\n",
    "- Convert StatsBomb events to SPADL actions\n",
    "- Store SPADL actions and metadata in SQLite database\n"
   ]
  },
  {
   "cell_type": "code",
   "execution_count": 1,
   "id": "54b734c5",
   "metadata": {
    "tags": []
   },
   "outputs": [],
   "source": [
    "from pathlib import Path"
   ]
  },
  {
   "cell_type": "code",
   "execution_count": 2,
   "id": "c551a37c",
   "metadata": {
    "tags": []
   },
   "outputs": [],
   "source": [
    "# Disable private API warnings\n",
    "import warnings\n",
    "from statsbombpy.api_client import NoAuthWarning\n",
    "warnings.filterwarnings(action=\"ignore\", category=NoAuthWarning, module='statsbombpy')"
   ]
  },
  {
   "cell_type": "code",
   "execution_count": 3,
   "id": "4a6275bb",
   "metadata": {
    "tags": []
   },
   "outputs": [],
   "source": [
    "%load_ext autoreload\n",
    "%autoreload 2"
   ]
  },
  {
   "cell_type": "code",
   "execution_count": 4,
   "id": "faff3f25",
   "metadata": {
    "tags": []
   },
   "outputs": [],
   "source": [
    "from unxpass.databases import SQLiteDatabase\n",
    "from unxpass.visualization import plot_action"
   ]
  },
  {
   "cell_type": "markdown",
   "id": "5c45f6bd",
   "metadata": {},
   "source": [
    "## Configure leagues and seasons to download and convert\n",
    "\n",
    "First, we define the StatsBomb IDs of the competitions and seasons that should be downloaded."
   ]
  },
  {
   "cell_type": "code",
   "execution_count": 5,
   "id": "36fc1dac",
   "metadata": {
    "tags": []
   },
   "outputs": [],
   "source": [
    "datasets = [\n",
    "    # Full EURO 2020 dataset\n",
    "    # { \"getter\": \"remote\", \"competition_id\":  55, \"season_id\": 43 }\n",
    "    # BEL v ITA at EURO2020 (enable for a quick test run)\n",
    "    { \"getter\": \"remote\", \"competition_id\":  55, \"season_id\": 43, \"game_id\": 3795107 }\n",
    "    # You can also import a local dataset\n",
    "    #{ \"getter\": \"local\", \"root\": \"../raw_data\", \"competition_id\":  55, \"season_id\": 43 }\n",
    "]"
   ]
  },
  {
   "cell_type": "markdown",
   "id": "529a2146",
   "metadata": {},
   "source": [
    "## Configure database\n",
    "\n",
    "Next, we define were the processed data should be stored."
   ]
  },
  {
   "cell_type": "code",
   "execution_count": 6,
   "id": "0cde7c1b",
   "metadata": {
    "tags": []
   },
   "outputs": [],
   "source": [
    "DB_PATH = Path(\"../stores/database.sqlite\")\n",
    "db = SQLiteDatabase(DB_PATH)"
   ]
  },
  {
   "cell_type": "markdown",
   "id": "dfcacf5f",
   "metadata": {},
   "source": [
    "## Import data\n",
    "\n",
    "Now we can download, convert and save each dataset."
   ]
  },
  {
   "cell_type": "code",
   "execution_count": 7,
   "id": "ea6e2b1c",
   "metadata": {
    "tags": []
   },
   "outputs": [
    {
     "data": {
      "text/html": [
       "<pre style=\"white-space:pre;overflow-x:auto;line-height:normal;font-family:Menlo,'DejaVu Sans Mono',consolas,'Courier New',monospace\">Loading game data... <span style=\"color: #729c1f; text-decoration-color: #729c1f\">━━━━━━━━━━━━━━━━━━━━━━━━━━━━━━━━━━━━━━━━</span> <span style=\"color: #800080; text-decoration-color: #800080\">100%</span> <span style=\"color: #008080; text-decoration-color: #008080\">0:00:00</span>\n",
       "</pre>\n"
      ],
      "text/plain": [
       "Loading game data... \u001b[38;2;114;156;31m━━━━━━━━━━━━━━━━━━━━━━━━━━━━━━━━━━━━━━━━\u001b[0m \u001b[35m100%\u001b[0m \u001b[36m0:00:00\u001b[0m\n"
      ]
     },
     "metadata": {},
     "output_type": "display_data"
    },
    {
     "data": {
      "text/html": [
       "<pre style=\"white-space:pre;overflow-x:auto;line-height:normal;font-family:Menlo,'DejaVu Sans Mono',consolas,'Courier New',monospace\"></pre>\n"
      ],
      "text/plain": []
     },
     "metadata": {},
     "output_type": "display_data"
    },
    {
     "data": {
      "text/html": [
       "<pre style=\"white-space:pre;overflow-x:auto;line-height:normal;font-family:Menlo,'DejaVu Sans Mono',consolas,'Courier New',monospace\">\n",
       "</pre>\n"
      ],
      "text/plain": [
       "\n"
      ]
     },
     "metadata": {},
     "output_type": "display_data"
    }
   ],
   "source": [
    "for dataset in datasets:\n",
    "    db.import_data(**dataset)"
   ]
  },
  {
   "cell_type": "markdown",
   "id": "7e99b2ca",
   "metadata": {},
   "source": [
    "## Access data\n",
    "\n",
    "The SQLite database now provides an interface for conveniently accessing the data."
   ]
  },
  {
   "cell_type": "code",
   "execution_count": 8,
   "id": "aa54b92e",
   "metadata": {
    "tags": []
   },
   "outputs": [
    {
     "data": {
      "text/html": [
       "<div>\n",
       "<style scoped>\n",
       "    .dataframe tbody tr th:only-of-type {\n",
       "        vertical-align: middle;\n",
       "    }\n",
       "\n",
       "    .dataframe tbody tr th {\n",
       "        vertical-align: top;\n",
       "    }\n",
       "\n",
       "    .dataframe thead th {\n",
       "        text-align: right;\n",
       "    }\n",
       "</style>\n",
       "<table border=\"1\" class=\"dataframe\">\n",
       "  <thead>\n",
       "    <tr style=\"text-align: right;\">\n",
       "      <th></th>\n",
       "      <th>season_id</th>\n",
       "      <th>competition_id</th>\n",
       "      <th>game_day</th>\n",
       "      <th>game_date</th>\n",
       "      <th>home_team_id</th>\n",
       "      <th>away_team_id</th>\n",
       "      <th>competition_stage</th>\n",
       "      <th>home_score</th>\n",
       "      <th>away_score</th>\n",
       "      <th>venue</th>\n",
       "      <th>referee</th>\n",
       "    </tr>\n",
       "    <tr>\n",
       "      <th>game_id</th>\n",
       "      <th></th>\n",
       "      <th></th>\n",
       "      <th></th>\n",
       "      <th></th>\n",
       "      <th></th>\n",
       "      <th></th>\n",
       "      <th></th>\n",
       "      <th></th>\n",
       "      <th></th>\n",
       "      <th></th>\n",
       "      <th></th>\n",
       "    </tr>\n",
       "  </thead>\n",
       "  <tbody>\n",
       "    <tr>\n",
       "      <th>3788741</th>\n",
       "      <td>43</td>\n",
       "      <td>55</td>\n",
       "      <td>1</td>\n",
       "      <td>2021-06-11 21:00:00</td>\n",
       "      <td>909</td>\n",
       "      <td>914</td>\n",
       "      <td>Group Stage</td>\n",
       "      <td>0</td>\n",
       "      <td>3</td>\n",
       "      <td>Estadio Olímpico</td>\n",
       "      <td>Danny Desmond Makkelie</td>\n",
       "    </tr>\n",
       "    <tr>\n",
       "      <th>3788742</th>\n",
       "      <td>43</td>\n",
       "      <td>55</td>\n",
       "      <td>1</td>\n",
       "      <td>2021-06-12 18:00:00</td>\n",
       "      <td>776</td>\n",
       "      <td>1835</td>\n",
       "      <td>Group Stage</td>\n",
       "      <td>0</td>\n",
       "      <td>1</td>\n",
       "      <td>Parken</td>\n",
       "      <td>Anthony Taylor</td>\n",
       "    </tr>\n",
       "    <tr>\n",
       "      <th>3788743</th>\n",
       "      <td>43</td>\n",
       "      <td>55</td>\n",
       "      <td>1</td>\n",
       "      <td>2021-06-12 21:00:00</td>\n",
       "      <td>782</td>\n",
       "      <td>796</td>\n",
       "      <td>Group Stage</td>\n",
       "      <td>3</td>\n",
       "      <td>0</td>\n",
       "      <td>Saint-Petersburg Stadium</td>\n",
       "      <td>Antonio Miguel Mateu Lahoz</td>\n",
       "    </tr>\n",
       "    <tr>\n",
       "      <th>3788744</th>\n",
       "      <td>43</td>\n",
       "      <td>55</td>\n",
       "      <td>1</td>\n",
       "      <td>2021-06-12 15:00:00</td>\n",
       "      <td>907</td>\n",
       "      <td>773</td>\n",
       "      <td>Group Stage</td>\n",
       "      <td>1</td>\n",
       "      <td>1</td>\n",
       "      <td>Bakı Olimpiya Stadionu</td>\n",
       "      <td>Clément Turpin</td>\n",
       "    </tr>\n",
       "    <tr>\n",
       "      <th>3788745</th>\n",
       "      <td>43</td>\n",
       "      <td>55</td>\n",
       "      <td>1</td>\n",
       "      <td>2021-06-13 15:00:00</td>\n",
       "      <td>768</td>\n",
       "      <td>785</td>\n",
       "      <td>Group Stage</td>\n",
       "      <td>1</td>\n",
       "      <td>0</td>\n",
       "      <td>Wembley Stadium</td>\n",
       "      <td>Daniele Orsato</td>\n",
       "    </tr>\n",
       "  </tbody>\n",
       "</table>\n",
       "</div>"
      ],
      "text/plain": [
       "         season_id  competition_id  game_day            game_date  \\\n",
       "game_id                                                             \n",
       "3788741         43              55         1  2021-06-11 21:00:00   \n",
       "3788742         43              55         1  2021-06-12 18:00:00   \n",
       "3788743         43              55         1  2021-06-12 21:00:00   \n",
       "3788744         43              55         1  2021-06-12 15:00:00   \n",
       "3788745         43              55         1  2021-06-13 15:00:00   \n",
       "\n",
       "         home_team_id  away_team_id competition_stage  home_score  away_score  \\\n",
       "game_id                                                                         \n",
       "3788741           909           914       Group Stage           0           3   \n",
       "3788742           776          1835       Group Stage           0           1   \n",
       "3788743           782           796       Group Stage           3           0   \n",
       "3788744           907           773       Group Stage           1           1   \n",
       "3788745           768           785       Group Stage           1           0   \n",
       "\n",
       "                            venue                     referee  \n",
       "game_id                                                        \n",
       "3788741          Estadio Olímpico      Danny Desmond Makkelie  \n",
       "3788742                    Parken              Anthony Taylor  \n",
       "3788743  Saint-Petersburg Stadium  Antonio Miguel Mateu Lahoz  \n",
       "3788744    Bakı Olimpiya Stadionu              Clément Turpin  \n",
       "3788745           Wembley Stadium              Daniele Orsato  "
      ]
     },
     "execution_count": 8,
     "metadata": {},
     "output_type": "execute_result"
    }
   ],
   "source": [
    "# List of games included in the database\n",
    "df_games = db.games()\n",
    "df_games.head()"
   ]
  },
  {
   "cell_type": "code",
   "execution_count": 9,
   "id": "d5a829b2",
   "metadata": {},
   "outputs": [
    {
     "data": {
      "text/html": [
       "<div>\n",
       "<style scoped>\n",
       "    .dataframe tbody tr th:only-of-type {\n",
       "        vertical-align: middle;\n",
       "    }\n",
       "\n",
       "    .dataframe tbody tr th {\n",
       "        vertical-align: top;\n",
       "    }\n",
       "\n",
       "    .dataframe thead th {\n",
       "        text-align: right;\n",
       "    }\n",
       "</style>\n",
       "<table border=\"1\" class=\"dataframe\">\n",
       "  <thead>\n",
       "    <tr style=\"text-align: right;\">\n",
       "      <th></th>\n",
       "      <th></th>\n",
       "      <th>original_event_id</th>\n",
       "      <th>period_id</th>\n",
       "      <th>time_seconds</th>\n",
       "      <th>team_id</th>\n",
       "      <th>player_id</th>\n",
       "      <th>start_x</th>\n",
       "      <th>start_y</th>\n",
       "      <th>end_x</th>\n",
       "      <th>end_y</th>\n",
       "      <th>bodypart_id</th>\n",
       "      <th>type_id</th>\n",
       "      <th>result_id</th>\n",
       "      <th>possession_team_id</th>\n",
       "      <th>play_pattern_name</th>\n",
       "      <th>under_pressure</th>\n",
       "      <th>extra</th>\n",
       "      <th>visible_area_360</th>\n",
       "      <th>in_visible_area_360</th>\n",
       "      <th>freeze_frame_360</th>\n",
       "    </tr>\n",
       "    <tr>\n",
       "      <th>game_id</th>\n",
       "      <th>action_id</th>\n",
       "      <th></th>\n",
       "      <th></th>\n",
       "      <th></th>\n",
       "      <th></th>\n",
       "      <th></th>\n",
       "      <th></th>\n",
       "      <th></th>\n",
       "      <th></th>\n",
       "      <th></th>\n",
       "      <th></th>\n",
       "      <th></th>\n",
       "      <th></th>\n",
       "      <th></th>\n",
       "      <th></th>\n",
       "      <th></th>\n",
       "      <th></th>\n",
       "      <th></th>\n",
       "      <th></th>\n",
       "      <th></th>\n",
       "    </tr>\n",
       "  </thead>\n",
       "  <tbody>\n",
       "    <tr>\n",
       "      <th rowspan=\"5\" valign=\"top\">3795107</th>\n",
       "      <th>0</th>\n",
       "      <td>cac7b0b7-e051-4266-874a-37d5185c8a4e</td>\n",
       "      <td>1</td>\n",
       "      <td>1.0</td>\n",
       "      <td>782</td>\n",
       "      <td>3289</td>\n",
       "      <td>52.058824</td>\n",
       "      <td>34.430380</td>\n",
       "      <td>46.941176</td>\n",
       "      <td>37.615190</td>\n",
       "      <td>5</td>\n",
       "      <td>0</td>\n",
       "      <td>1</td>\n",
       "      <td>782.0</td>\n",
       "      <td>From Kick Off</td>\n",
       "      <td>0</td>\n",
       "      <td>{'pass': {'recipient': {'id': 5642, 'name': 'A...</td>\n",
       "      <td>[[39.95293111994783, 2.994426202079026], [9.12...</td>\n",
       "      <td>1</td>\n",
       "      <td>[{'teammate': True, 'actor': False, 'keeper': ...</td>\n",
       "    </tr>\n",
       "    <tr>\n",
       "      <th>1</th>\n",
       "      <td>5c1ef827-e053-44f8-a0f0-b312a3ca093d</td>\n",
       "      <td>1</td>\n",
       "      <td>1.0</td>\n",
       "      <td>782</td>\n",
       "      <td>5642</td>\n",
       "      <td>46.941176</td>\n",
       "      <td>37.615190</td>\n",
       "      <td>44.470588</td>\n",
       "      <td>39.853165</td>\n",
       "      <td>0</td>\n",
       "      <td>21</td>\n",
       "      <td>1</td>\n",
       "      <td>782.0</td>\n",
       "      <td>From Kick Off</td>\n",
       "      <td>0</td>\n",
       "      <td>{'carry': {'end_location': [51.4, 33.7]}}</td>\n",
       "      <td>[[40.54724912231884, 3.620299352250072], [11.6...</td>\n",
       "      <td>1</td>\n",
       "      <td>[{'teammate': True, 'actor': False, 'keeper': ...</td>\n",
       "    </tr>\n",
       "    <tr>\n",
       "      <th>2</th>\n",
       "      <td>ba26ec0b-3274-481c-90d1-c58bd71bc81f</td>\n",
       "      <td>1</td>\n",
       "      <td>2.0</td>\n",
       "      <td>782</td>\n",
       "      <td>5642</td>\n",
       "      <td>44.470588</td>\n",
       "      <td>39.853165</td>\n",
       "      <td>29.205882</td>\n",
       "      <td>53.797468</td>\n",
       "      <td>5</td>\n",
       "      <td>0</td>\n",
       "      <td>1</td>\n",
       "      <td>782.0</td>\n",
       "      <td>From Kick Off</td>\n",
       "      <td>0</td>\n",
       "      <td>{'pass': {'recipient': {'id': 3077, 'name': 'J...</td>\n",
       "      <td>[[38.72217799304041, 0.04784815699034084], [8....</td>\n",
       "      <td>1</td>\n",
       "      <td>[{'teammate': True, 'actor': False, 'keeper': ...</td>\n",
       "    </tr>\n",
       "    <tr>\n",
       "      <th>3</th>\n",
       "      <td>1783a21c-bb70-4353-bed4-5883f66a1f68</td>\n",
       "      <td>1</td>\n",
       "      <td>4.0</td>\n",
       "      <td>782</td>\n",
       "      <td>3077</td>\n",
       "      <td>29.205882</td>\n",
       "      <td>53.797468</td>\n",
       "      <td>28.235294</td>\n",
       "      <td>56.207595</td>\n",
       "      <td>0</td>\n",
       "      <td>21</td>\n",
       "      <td>1</td>\n",
       "      <td>782.0</td>\n",
       "      <td>From Kick Off</td>\n",
       "      <td>0</td>\n",
       "      <td>{'carry': {'end_location': [33.0, 14.7]}}</td>\n",
       "      <td>[[36.00339793873086, 3.8648379122013665], [6.9...</td>\n",
       "      <td>1</td>\n",
       "      <td>[{'teammate': True, 'actor': False, 'keeper': ...</td>\n",
       "    </tr>\n",
       "    <tr>\n",
       "      <th>4</th>\n",
       "      <td>f8b6772a-4272-4aa1-8eda-184d2a8248a8</td>\n",
       "      <td>1</td>\n",
       "      <td>6.0</td>\n",
       "      <td>782</td>\n",
       "      <td>3077</td>\n",
       "      <td>28.235294</td>\n",
       "      <td>56.207595</td>\n",
       "      <td>35.382353</td>\n",
       "      <td>67.483544</td>\n",
       "      <td>4</td>\n",
       "      <td>0</td>\n",
       "      <td>1</td>\n",
       "      <td>782.0</td>\n",
       "      <td>From Kick Off</td>\n",
       "      <td>0</td>\n",
       "      <td>{'pass': {'recipient': {'id': 5632, 'name': 'T...</td>\n",
       "      <td>[[33.14790413631122, 6.700149200225219], [2.90...</td>\n",
       "      <td>1</td>\n",
       "      <td>[{'teammate': True, 'actor': False, 'keeper': ...</td>\n",
       "    </tr>\n",
       "  </tbody>\n",
       "</table>\n",
       "</div>"
      ],
      "text/plain": [
       "                                      original_event_id  period_id  \\\n",
       "game_id action_id                                                    \n",
       "3795107 0          cac7b0b7-e051-4266-874a-37d5185c8a4e          1   \n",
       "        1          5c1ef827-e053-44f8-a0f0-b312a3ca093d          1   \n",
       "        2          ba26ec0b-3274-481c-90d1-c58bd71bc81f          1   \n",
       "        3          1783a21c-bb70-4353-bed4-5883f66a1f68          1   \n",
       "        4          f8b6772a-4272-4aa1-8eda-184d2a8248a8          1   \n",
       "\n",
       "                   time_seconds  team_id  player_id    start_x    start_y  \\\n",
       "game_id action_id                                                           \n",
       "3795107 0                   1.0      782       3289  52.058824  34.430380   \n",
       "        1                   1.0      782       5642  46.941176  37.615190   \n",
       "        2                   2.0      782       5642  44.470588  39.853165   \n",
       "        3                   4.0      782       3077  29.205882  53.797468   \n",
       "        4                   6.0      782       3077  28.235294  56.207595   \n",
       "\n",
       "                       end_x      end_y  bodypart_id  type_id  result_id  \\\n",
       "game_id action_id                                                          \n",
       "3795107 0          46.941176  37.615190            5        0          1   \n",
       "        1          44.470588  39.853165            0       21          1   \n",
       "        2          29.205882  53.797468            5        0          1   \n",
       "        3          28.235294  56.207595            0       21          1   \n",
       "        4          35.382353  67.483544            4        0          1   \n",
       "\n",
       "                   possession_team_id play_pattern_name  under_pressure  \\\n",
       "game_id action_id                                                         \n",
       "3795107 0                       782.0     From Kick Off               0   \n",
       "        1                       782.0     From Kick Off               0   \n",
       "        2                       782.0     From Kick Off               0   \n",
       "        3                       782.0     From Kick Off               0   \n",
       "        4                       782.0     From Kick Off               0   \n",
       "\n",
       "                                                               extra  \\\n",
       "game_id action_id                                                      \n",
       "3795107 0          {'pass': {'recipient': {'id': 5642, 'name': 'A...   \n",
       "        1                  {'carry': {'end_location': [51.4, 33.7]}}   \n",
       "        2          {'pass': {'recipient': {'id': 3077, 'name': 'J...   \n",
       "        3                  {'carry': {'end_location': [33.0, 14.7]}}   \n",
       "        4          {'pass': {'recipient': {'id': 5632, 'name': 'T...   \n",
       "\n",
       "                                                    visible_area_360  \\\n",
       "game_id action_id                                                      \n",
       "3795107 0          [[39.95293111994783, 2.994426202079026], [9.12...   \n",
       "        1          [[40.54724912231884, 3.620299352250072], [11.6...   \n",
       "        2          [[38.72217799304041, 0.04784815699034084], [8....   \n",
       "        3          [[36.00339793873086, 3.8648379122013665], [6.9...   \n",
       "        4          [[33.14790413631122, 6.700149200225219], [2.90...   \n",
       "\n",
       "                   in_visible_area_360  \\\n",
       "game_id action_id                        \n",
       "3795107 0                            1   \n",
       "        1                            1   \n",
       "        2                            1   \n",
       "        3                            1   \n",
       "        4                            1   \n",
       "\n",
       "                                                    freeze_frame_360  \n",
       "game_id action_id                                                     \n",
       "3795107 0          [{'teammate': True, 'actor': False, 'keeper': ...  \n",
       "        1          [{'teammate': True, 'actor': False, 'keeper': ...  \n",
       "        2          [{'teammate': True, 'actor': False, 'keeper': ...  \n",
       "        3          [{'teammate': True, 'actor': False, 'keeper': ...  \n",
       "        4          [{'teammate': True, 'actor': False, 'keeper': ...  "
      ]
     },
     "execution_count": 9,
     "metadata": {},
     "output_type": "execute_result"
    }
   ],
   "source": [
    "# Dataframe with all SPADL actions + 360 snapshots for a particular game\n",
    "df_actions = db.actions(game_id=3795107)\n",
    "df_actions.head()"
   ]
  },
  {
   "cell_type": "code",
   "execution_count": 10,
   "id": "ee12ad15",
   "metadata": {},
   "outputs": [
    {
     "data": {
      "text/plain": [
       "<AxesSubplot:>"
      ]
     },
     "execution_count": 10,
     "metadata": {},
     "output_type": "execute_result"
    },
    {
     "data": {
      "image/png": "[encoded data removed]",
      "text/plain": [
       "<Figure size 864x576 with 1 Axes>"
      ]
     },
     "metadata": {},
     "output_type": "display_data"
    }
   ],
   "source": [
    "sample = (3795107, 2)\n",
    "plot_action(df_actions.loc[sample])"
   ]
  },
  {
   "cell_type": "code",
   "execution_count": 11,
   "id": "f0317c6d",
   "metadata": {
    "tags": []
   },
   "outputs": [],
   "source": [
    "db.close()"
   ]
  }
 ],
 "metadata": {
  "kernelspec": {
   "display_name": "/home/pieterr/Jupiter/Projects/soccer-unxpass",
   "language": "python",
   "name": "soccer-unxpass"
  },
  "language_info": {
   "codemirror_mode": {
    "name": "ipython",
    "version": 3
   },
   "file_extension": ".py",
   "mimetype": "text/x-python",
   "name": "python",
   "nbconvert_exporter": "python",
   "pygments_lexer": "ipython3",
   "version": "3.9.6"
  },
  "toc": {
   "base_numbering": 1,
   "nav_menu": {},
   "number_sections": true,
   "sideBar": true,
   "skip_h1_title": false,
   "title_cell": "Table of Contents",
   "title_sidebar": "Contents",
   "toc_cell": false,
   "toc_position": {},
   "toc_section_display": true,
   "toc_window_display": true
  }
 },
 "nbformat": 4,
 "nbformat_minor": 5
}
