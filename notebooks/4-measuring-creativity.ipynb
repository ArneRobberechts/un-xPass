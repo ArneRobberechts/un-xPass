{
 "cells": [
  {
   "cell_type": "markdown",
   "id": "435033eb",
   "metadata": {},
   "source": [
    "# Measuring creativity\n",
    "\n",
    "Once you've trained a pass selection, pass outcome and pass value model, they can be combined to measure the creativity of a pass."
   ]
  },
  {
   "cell_type": "code",
   "execution_count": 1,
   "id": "84a0e37d",
   "metadata": {
    "tags": []
   },
   "outputs": [],
   "source": [
    "from pathlib import Path\n",
    "from functools import partial\n",
    "\n",
    "import matplotlib.pyplot as plt\n",
    "\n",
    "import pandas as pd\n",
    "import numpy as np\n",
    "import mlflow\n",
    "from scipy.ndimage import zoom\n",
    "\n",
    "import warnings\n",
    "warnings.simplefilter(action='ignore', category=pd.errors.PerformanceWarning)"
   ]
  },
  {
   "cell_type": "code",
   "execution_count": 2,
   "id": "435cbe12",
   "metadata": {
    "tags": []
   },
   "outputs": [],
   "source": [
    "%load_ext autoreload\n",
    "%autoreload 2"
   ]
  },
  {
   "cell_type": "code",
   "execution_count": 3,
   "id": "2d3e26b8",
   "metadata": {
    "tags": []
   },
   "outputs": [
    {
     "name": "stderr",
     "output_type": "stream",
     "text": [
      "/cw/dtaijupiter/NoCsBack/dtai/pieterr/Projects/soccer-unxpass-public/.venv/lib/python3.9/site-packages/tqdm/auto.py:21: TqdmWarning: IProgress not found. Please update jupyter and ipywidgets. See https://ipywidgets.readthedocs.io/en/stable/user_install.html\n",
      "  from .autonotebook import tqdm as notebook_tqdm\n"
     ]
    }
   ],
   "source": [
    "from unxpass.databases import SQLiteDatabase\n",
    "from unxpass.datasets import PassesDataset\n",
    "from unxpass.components import pass_selection, pass_value, pass_success\n",
    "from unxpass.components.utils import load_model\n",
    "from unxpass.visualization import plot_action\n",
    "from unxpass.ratings import CreativeDecisionRating"
   ]
  },
  {
   "cell_type": "code",
   "execution_count": 4,
   "id": "462583e9",
   "metadata": {
    "tags": []
   },
   "outputs": [],
   "source": [
    "plt_settings = {\"cmap\": \"magma\", \"vmin\": 0, \"vmax\": 1, \"interpolation\": \"bilinear\"}"
   ]
  },
  {
   "cell_type": "markdown",
   "id": "3aae3ed4",
   "metadata": {},
   "source": [
    "## Load dataset"
   ]
  },
  {
   "cell_type": "code",
   "execution_count": 5,
   "id": "75cda90d",
   "metadata": {
    "tags": []
   },
   "outputs": [],
   "source": [
    "STORES_FP = Path(\"../stores\")\n",
    "\n",
    "db = SQLiteDatabase(STORES_FP / \"database.sql\")\n",
    "\n",
    "dataset_test = partial(PassesDataset, path=STORES_FP / \"datasets\" / \"euro2020\" / \"test\")"
   ]
  },
  {
   "cell_type": "code",
   "execution_count": 6,
   "id": "b01f0dd8",
   "metadata": {
    "tags": []
   },
   "outputs": [],
   "source": [
    "# Select an example pass\n",
    "SAMPLE = (3795506, 4)"
   ]
  },
  {
   "cell_type": "code",
   "execution_count": 7,
   "id": "5a6cca79",
   "metadata": {
    "tags": []
   },
   "outputs": [
    {
     "data": {
      "text/html": [
       "<div>\n",
       "<style scoped>\n",
       "    .dataframe tbody tr th:only-of-type {\n",
       "        vertical-align: middle;\n",
       "    }\n",
       "\n",
       "    .dataframe tbody tr th {\n",
       "        vertical-align: top;\n",
       "    }\n",
       "\n",
       "    .dataframe thead th {\n",
       "        text-align: right;\n",
       "    }\n",
       "</style>\n",
       "<table border=\"1\" class=\"dataframe\">\n",
       "  <thead>\n",
       "    <tr style=\"text-align: right;\">\n",
       "      <th></th>\n",
       "      <th></th>\n",
       "      <th>original_event_id</th>\n",
       "      <th>period_id</th>\n",
       "      <th>time_seconds</th>\n",
       "      <th>team_id</th>\n",
       "      <th>player_id</th>\n",
       "      <th>start_x</th>\n",
       "      <th>start_y</th>\n",
       "      <th>end_x</th>\n",
       "      <th>end_y</th>\n",
       "      <th>bodypart_id</th>\n",
       "      <th>type_id</th>\n",
       "      <th>result_id</th>\n",
       "      <th>possession_team_id</th>\n",
       "      <th>play_pattern_name</th>\n",
       "      <th>under_pressure</th>\n",
       "      <th>extra</th>\n",
       "      <th>visible_area_360</th>\n",
       "      <th>in_visible_area_360</th>\n",
       "      <th>freeze_frame_360</th>\n",
       "    </tr>\n",
       "  </thead>\n",
       "  <tbody>\n",
       "    <tr>\n",
       "      <th>3795506</th>\n",
       "      <th>4</th>\n",
       "      <td>7cc5e22d-caff-46b1-8adf-fb1f3e3bdc1e</td>\n",
       "      <td>1</td>\n",
       "      <td>5.0</td>\n",
       "      <td>914</td>\n",
       "      <td>11514</td>\n",
       "      <td>33.705882</td>\n",
       "      <td>9.98481</td>\n",
       "      <td>21.088235</td>\n",
       "      <td>28.663291</td>\n",
       "      <td>5</td>\n",
       "      <td>0</td>\n",
       "      <td>1</td>\n",
       "      <td>914.0</td>\n",
       "      <td>From Kick Off</td>\n",
       "      <td>0</td>\n",
       "      <td>{'pass': {'recipient': {'id': 7173, 'name': 'L...</td>\n",
       "      <td>[[53.155008354104645, 0.0], [32.85311409175197...</td>\n",
       "      <td>1</td>\n",
       "      <td>[{'teammate': True, 'actor': False, 'keeper': ...</td>\n",
       "    </tr>\n",
       "  </tbody>\n",
       "</table>\n",
       "</div>"
      ],
      "text/plain": [
       "                              original_event_id period_id time_seconds  \\\n",
       "3795506 4  7cc5e22d-caff-46b1-8adf-fb1f3e3bdc1e         1          5.0   \n",
       "\n",
       "          team_id player_id    start_x  start_y      end_x      end_y  \\\n",
       "3795506 4     914     11514  33.705882  9.98481  21.088235  28.663291   \n",
       "\n",
       "          bodypart_id type_id result_id possession_team_id play_pattern_name  \\\n",
       "3795506 4           5       0         1              914.0     From Kick Off   \n",
       "\n",
       "          under_pressure                                              extra  \\\n",
       "3795506 4              0  {'pass': {'recipient': {'id': 7173, 'name': 'L...   \n",
       "\n",
       "                                            visible_area_360  \\\n",
       "3795506 4  [[53.155008354104645, 0.0], [32.85311409175197...   \n",
       "\n",
       "          in_visible_area_360  \\\n",
       "3795506 4                   1   \n",
       "\n",
       "                                            freeze_frame_360  \n",
       "3795506 4  [{'teammate': True, 'actor': False, 'keeper': ...  "
      ]
     },
     "metadata": {},
     "output_type": "display_data"
    },
    {
     "data": {
      "image/png": "[encoded data removed]",
      "text/plain": [
       "<Figure size 600x400 with 1 Axes>"
      ]
     },
     "metadata": {},
     "output_type": "display_data"
    }
   ],
   "source": [
    "# Show the selected example\n",
    "ex_action = db.actions(game_id=SAMPLE[0]).loc[SAMPLE]\n",
    "display(ex_action.to_frame().T)\n",
    "\n",
    "fig, ax = plt.subplots(figsize=(6,4))\n",
    "ax = plot_action(ex_action, ax=ax)\n",
    "plt.show()"
   ]
  },
  {
   "cell_type": "markdown",
   "id": "cbdb70da-3aa9-4115-9f40-b59b03fdc32b",
   "metadata": {},
   "source": [
    "Note that this is probably not a creative pass. It looks like a typical pass and it is not very useful."
   ]
  },
  {
   "cell_type": "markdown",
   "id": "f497b078-8ea0-41f6-b23c-592b1cd4bb11",
   "metadata": {},
   "source": [
    "## Load models"
   ]
  },
  {
   "cell_type": "markdown",
   "id": "21089b22",
   "metadata": {},
   "source": [
    "### Pass selection"
   ]
  },
  {
   "cell_type": "code",
   "execution_count": 8,
   "id": "df46b4c3",
   "metadata": {
    "tags": []
   },
   "outputs": [
    {
     "data": {
      "text/html": [
       "<pre style=\"white-space:pre;overflow-x:auto;line-height:normal;font-family:Menlo,'DejaVu Sans Mono',consolas,'Courier New',monospace\"><span style=\"color: #7fbfbf; text-decoration-color: #7fbfbf\">[07/17/23 11:59:08] </span><span style=\"color: #000080; text-decoration-color: #000080\">INFO    </span> Loading dataset from ..<span style=\"color: #800080; text-decoration-color: #800080\">/stores/datasets/euro2020/</span><span style=\"color: #ff00ff; text-decoration-color: #ff00ff\">test</span>                  <a href=\"file:///cw/dtaijupiter/NoCsBack/dtai/pieterr/Projects/soccer-unxpass-public/.venv/lib/python3.9/site-packages/lightning_utilities/core/rank_zero.py\" target=\"_blank\"><span style=\"color: #7f7f7f; text-decoration-color: #7f7f7f\">rank_zero.py</span></a><span style=\"color: #7f7f7f; text-decoration-color: #7f7f7f\">:</span><a href=\"file:///cw/dtaijupiter/NoCsBack/dtai/pieterr/Projects/soccer-unxpass-public/.venv/lib/python3.9/site-packages/lightning_utilities/core/rank_zero.py#32\" target=\"_blank\"><span style=\"color: #7f7f7f; text-decoration-color: #7f7f7f\">32</span></a>\n",
       "</pre>\n"
      ],
      "text/plain": [
       "\u001b[2;36m[07/17/23 11:59:08]\u001b[0m\u001b[2;36m \u001b[0m\u001b[34mINFO    \u001b[0m Loading dataset from ..\u001b[35m/stores/datasets/euro2020/\u001b[0m\u001b[95mtest\u001b[0m                  \u001b]8;id=107425;file:///cw/dtaijupiter/NoCsBack/dtai/pieterr/Projects/soccer-unxpass-public/.venv/lib/python3.9/site-packages/lightning_utilities/core/rank_zero.py\u001b\\\u001b[2mrank_zero.py\u001b[0m\u001b]8;;\u001b\\\u001b[2m:\u001b[0m\u001b]8;id=584300;file:///cw/dtaijupiter/NoCsBack/dtai/pieterr/Projects/soccer-unxpass-public/.venv/lib/python3.9/site-packages/lightning_utilities/core/rank_zero.py#32\u001b\\\u001b[2m32\u001b[0m\u001b]8;;\u001b\\\n"
      ]
     },
     "metadata": {},
     "output_type": "display_data"
    },
    {
     "data": {
      "text/html": [
       "<pre style=\"white-space:pre;overflow-x:auto;line-height:normal;font-family:Menlo,'DejaVu Sans Mono',consolas,'Courier New',monospace\"></pre>\n"
      ],
      "text/plain": []
     },
     "metadata": {},
     "output_type": "display_data"
    },
    {
     "data": {
      "text/html": [
       "<pre style=\"white-space:pre;overflow-x:auto;line-height:normal;font-family:Menlo,'DejaVu Sans Mono',consolas,'Courier New',monospace\">\n",
       "</pre>\n"
      ],
      "text/plain": [
       "\n"
      ]
     },
     "metadata": {},
     "output_type": "display_data"
    },
    {
     "data": {
      "text/plain": [
       "{'log_loss': 5.850149801707092,\n",
       " 'brier': 0.9885089131955397,\n",
       " 'acc': 0.5454545454545454}"
      ]
     },
     "execution_count": 8,
     "metadata": {},
     "output_type": "execute_result"
    }
   ],
   "source": [
    "model_pass_selection = pass_selection.SoccerMapComponent(\n",
    "    model=mlflow.pytorch.load_model(\n",
    "        #'runs:/8a4c034f5d2046039e95393c06fe8969/model', map_location='cpu'\n",
    "        'runs:/788ec5a232af46e59ac984d50ecfc1d5/model', map_location='cpu'\n",
    "    )\n",
    ")\n",
    "model_pass_selection.test(dataset_test)"
   ]
  },
  {
   "cell_type": "code",
   "execution_count": 9,
   "id": "042b58cb",
   "metadata": {
    "tags": []
   },
   "outputs": [
    {
     "data": {
      "text/html": [
       "<pre style=\"white-space:pre;overflow-x:auto;line-height:normal;font-family:Menlo,'DejaVu Sans Mono',consolas,'Courier New',monospace\"><span style=\"color: #7fbfbf; text-decoration-color: #7fbfbf\">[07/17/23 12:00:42] </span><span style=\"color: #000080; text-decoration-color: #000080\">INFO    </span> Loading dataset from ..<span style=\"color: #800080; text-decoration-color: #800080\">/stores/datasets/euro2020/</span><span style=\"color: #ff00ff; text-decoration-color: #ff00ff\">test</span>                  <a href=\"file:///cw/dtaijupiter/NoCsBack/dtai/pieterr/Projects/soccer-unxpass-public/.venv/lib/python3.9/site-packages/lightning_utilities/core/rank_zero.py\" target=\"_blank\"><span style=\"color: #7f7f7f; text-decoration-color: #7f7f7f\">rank_zero.py</span></a><span style=\"color: #7f7f7f; text-decoration-color: #7f7f7f\">:</span><a href=\"file:///cw/dtaijupiter/NoCsBack/dtai/pieterr/Projects/soccer-unxpass-public/.venv/lib/python3.9/site-packages/lightning_utilities/core/rank_zero.py#32\" target=\"_blank\"><span style=\"color: #7f7f7f; text-decoration-color: #7f7f7f\">32</span></a>\n",
       "</pre>\n"
      ],
      "text/plain": [
       "\u001b[2;36m[07/17/23 12:00:42]\u001b[0m\u001b[2;36m \u001b[0m\u001b[34mINFO    \u001b[0m Loading dataset from ..\u001b[35m/stores/datasets/euro2020/\u001b[0m\u001b[95mtest\u001b[0m                  \u001b]8;id=407289;file:///cw/dtaijupiter/NoCsBack/dtai/pieterr/Projects/soccer-unxpass-public/.venv/lib/python3.9/site-packages/lightning_utilities/core/rank_zero.py\u001b\\\u001b[2mrank_zero.py\u001b[0m\u001b]8;;\u001b\\\u001b[2m:\u001b[0m\u001b]8;id=492629;file:///cw/dtaijupiter/NoCsBack/dtai/pieterr/Projects/soccer-unxpass-public/.venv/lib/python3.9/site-packages/lightning_utilities/core/rank_zero.py#32\u001b\\\u001b[2m32\u001b[0m\u001b]8;;\u001b\\\n"
      ]
     },
     "metadata": {},
     "output_type": "display_data"
    },
    {
     "name": "stderr",
     "output_type": "stream",
     "text": [
      "GPU available: False, used: False\n",
      "TPU available: False, using: 0 TPU cores\n",
      "IPU available: False, using: 0 IPUs\n",
      "HPU available: False, using: 0 HPUs\n"
     ]
    },
    {
     "name": "stdout",
     "output_type": "stream",
     "text": [
      "Predicting DataLoader 0: 100%|████████████████████████████████████████████████████████████████████████████████████████████████████████████████████████████████████████████████████████████████████████████████████████████████████████████████| 594/594 [00:08<00:00, 66.29it/s]\n"
     ]
    }
   ],
   "source": [
    "surface_pass_selection = model_pass_selection.predict_surface(dataset_test)"
   ]
  },
  {
   "cell_type": "code",
   "execution_count": 12,
   "id": "0c2b8b63",
   "metadata": {
    "tags": []
   },
   "outputs": [
    {
     "data": {
      "image/png": "[encoded data removed]",
      "text/plain": [
       "<Figure size 640x480 with 1 Axes>"
      ]
     },
     "metadata": {},
     "output_type": "display_data"
    }
   ],
   "source": [
    "fig, ax = plt.subplots()\n",
    "ax = plot_action(\n",
    "    ex_action, surface=surface_pass_selection[SAMPLE[0]][SAMPLE[1]], \n",
    "    show_visible_area=False, show_action=False,\n",
    "    ax=ax, surface_kwargs={**plt_settings, \"vmin\": None, \"vmax\": None, \"cmap\": \"Greens\"}\n",
    ")\n",
    "plt.show()"
   ]
  },
  {
   "cell_type": "markdown",
   "id": "a3b40fba",
   "metadata": {},
   "source": [
    "### Pass success"
   ]
  },
  {
   "cell_type": "code",
   "execution_count": 13,
   "id": "2a5c8839",
   "metadata": {
    "tags": []
   },
   "outputs": [
    {
     "data": {
      "text/html": [
       "<pre style=\"white-space:pre;overflow-x:auto;line-height:normal;font-family:Menlo,'DejaVu Sans Mono',consolas,'Courier New',monospace\"><span style=\"color: #7fbfbf; text-decoration-color: #7fbfbf\">[07/17/23 12:03:02] </span><span style=\"color: #000080; text-decoration-color: #000080\">INFO    </span> Loading dataset from ..<span style=\"color: #800080; text-decoration-color: #800080\">/stores/datasets/euro2020/</span><span style=\"color: #ff00ff; text-decoration-color: #ff00ff\">test</span>                  <a href=\"file:///cw/dtaijupiter/NoCsBack/dtai/pieterr/Projects/soccer-unxpass-public/.venv/lib/python3.9/site-packages/lightning_utilities/core/rank_zero.py\" target=\"_blank\"><span style=\"color: #7f7f7f; text-decoration-color: #7f7f7f\">rank_zero.py</span></a><span style=\"color: #7f7f7f; text-decoration-color: #7f7f7f\">:</span><a href=\"file:///cw/dtaijupiter/NoCsBack/dtai/pieterr/Projects/soccer-unxpass-public/.venv/lib/python3.9/site-packages/lightning_utilities/core/rank_zero.py#32\" target=\"_blank\"><span style=\"color: #7f7f7f; text-decoration-color: #7f7f7f\">32</span></a>\n",
       "</pre>\n"
      ],
      "text/plain": [
       "\u001b[2;36m[07/17/23 12:03:02]\u001b[0m\u001b[2;36m \u001b[0m\u001b[34mINFO    \u001b[0m Loading dataset from ..\u001b[35m/stores/datasets/euro2020/\u001b[0m\u001b[95mtest\u001b[0m                  \u001b]8;id=965482;file:///cw/dtaijupiter/NoCsBack/dtai/pieterr/Projects/soccer-unxpass-public/.venv/lib/python3.9/site-packages/lightning_utilities/core/rank_zero.py\u001b\\\u001b[2mrank_zero.py\u001b[0m\u001b]8;;\u001b\\\u001b[2m:\u001b[0m\u001b]8;id=32931;file:///cw/dtaijupiter/NoCsBack/dtai/pieterr/Projects/soccer-unxpass-public/.venv/lib/python3.9/site-packages/lightning_utilities/core/rank_zero.py#32\u001b\\\u001b[2m32\u001b[0m\u001b]8;;\u001b\\\n"
      ]
     },
     "metadata": {},
     "output_type": "display_data"
    },
    {
     "data": {
      "text/plain": [
       "{'precision': 0.9617486338797814,\n",
       " 'recall': 0.9795918367346939,\n",
       " 'f1': 0.9705882352941176,\n",
       " 'log_loss': 0.1561886008002896,\n",
       " 'brier': 0.045388154333901594,\n",
       " 'roc_auc': 0.9426210153482881}"
      ]
     },
     "execution_count": 13,
     "metadata": {},
     "output_type": "execute_result"
    }
   ],
   "source": [
    "model_pass_success = load_model('runs:/f0d0458824324fbbb257550bf09d924a/component')\n",
    "model_pass_success.test(dataset_test)"
   ]
  },
  {
   "cell_type": "markdown",
   "id": "e0cbfc87",
   "metadata": {},
   "source": [
    "### Pass value"
   ]
  },
  {
   "cell_type": "code",
   "execution_count": 14,
   "id": "ec70fd83",
   "metadata": {
    "tags": []
   },
   "outputs": [
    {
     "data": {
      "text/html": [
       "<pre style=\"white-space:pre;overflow-x:auto;line-height:normal;font-family:Menlo,'DejaVu Sans Mono',consolas,'Courier New',monospace\"><span style=\"color: #7fbfbf; text-decoration-color: #7fbfbf\">[07/17/23 12:03:03] </span><span style=\"color: #000080; text-decoration-color: #000080\">INFO    </span> Loading dataset from ..<span style=\"color: #800080; text-decoration-color: #800080\">/stores/datasets/euro2020/</span><span style=\"color: #ff00ff; text-decoration-color: #ff00ff\">test</span>                  <a href=\"file:///cw/dtaijupiter/NoCsBack/dtai/pieterr/Projects/soccer-unxpass-public/.venv/lib/python3.9/site-packages/lightning_utilities/core/rank_zero.py\" target=\"_blank\"><span style=\"color: #7f7f7f; text-decoration-color: #7f7f7f\">rank_zero.py</span></a><span style=\"color: #7f7f7f; text-decoration-color: #7f7f7f\">:</span><a href=\"file:///cw/dtaijupiter/NoCsBack/dtai/pieterr/Projects/soccer-unxpass-public/.venv/lib/python3.9/site-packages/lightning_utilities/core/rank_zero.py#32\" target=\"_blank\"><span style=\"color: #7f7f7f; text-decoration-color: #7f7f7f\">32</span></a>\n",
       "</pre>\n"
      ],
      "text/plain": [
       "\u001b[2;36m[07/17/23 12:03:03]\u001b[0m\u001b[2;36m \u001b[0m\u001b[34mINFO    \u001b[0m Loading dataset from ..\u001b[35m/stores/datasets/euro2020/\u001b[0m\u001b[95mtest\u001b[0m                  \u001b]8;id=602946;file:///cw/dtaijupiter/NoCsBack/dtai/pieterr/Projects/soccer-unxpass-public/.venv/lib/python3.9/site-packages/lightning_utilities/core/rank_zero.py\u001b\\\u001b[2mrank_zero.py\u001b[0m\u001b]8;;\u001b\\\u001b[2m:\u001b[0m\u001b]8;id=387168;file:///cw/dtaijupiter/NoCsBack/dtai/pieterr/Projects/soccer-unxpass-public/.venv/lib/python3.9/site-packages/lightning_utilities/core/rank_zero.py#32\u001b\\\u001b[2m32\u001b[0m\u001b]8;;\u001b\\\n"
      ]
     },
     "metadata": {},
     "output_type": "display_data"
    },
    {
     "data": {
      "text/html": [
       "<pre style=\"white-space:pre;overflow-x:auto;line-height:normal;font-family:Menlo,'DejaVu Sans Mono',consolas,'Courier New',monospace\"><span style=\"color: #7fbfbf; text-decoration-color: #7fbfbf\">[07/17/23 12:03:04] </span><span style=\"color: #000080; text-decoration-color: #000080\">INFO    </span> Loading dataset from ..<span style=\"color: #800080; text-decoration-color: #800080\">/stores/datasets/euro2020/</span><span style=\"color: #ff00ff; text-decoration-color: #ff00ff\">test</span>                  <a href=\"file:///cw/dtaijupiter/NoCsBack/dtai/pieterr/Projects/soccer-unxpass-public/.venv/lib/python3.9/site-packages/lightning_utilities/core/rank_zero.py\" target=\"_blank\"><span style=\"color: #7f7f7f; text-decoration-color: #7f7f7f\">rank_zero.py</span></a><span style=\"color: #7f7f7f; text-decoration-color: #7f7f7f\">:</span><a href=\"file:///cw/dtaijupiter/NoCsBack/dtai/pieterr/Projects/soccer-unxpass-public/.venv/lib/python3.9/site-packages/lightning_utilities/core/rank_zero.py#32\" target=\"_blank\"><span style=\"color: #7f7f7f; text-decoration-color: #7f7f7f\">32</span></a>\n",
       "</pre>\n"
      ],
      "text/plain": [
       "\u001b[2;36m[07/17/23 12:03:04]\u001b[0m\u001b[2;36m \u001b[0m\u001b[34mINFO    \u001b[0m Loading dataset from ..\u001b[35m/stores/datasets/euro2020/\u001b[0m\u001b[95mtest\u001b[0m                  \u001b]8;id=117996;file:///cw/dtaijupiter/NoCsBack/dtai/pieterr/Projects/soccer-unxpass-public/.venv/lib/python3.9/site-packages/lightning_utilities/core/rank_zero.py\u001b\\\u001b[2mrank_zero.py\u001b[0m\u001b]8;;\u001b\\\u001b[2m:\u001b[0m\u001b]8;id=727981;file:///cw/dtaijupiter/NoCsBack/dtai/pieterr/Projects/soccer-unxpass-public/.venv/lib/python3.9/site-packages/lightning_utilities/core/rank_zero.py#32\u001b\\\u001b[2m32\u001b[0m\u001b]8;;\u001b\\\n"
      ]
     },
     "metadata": {},
     "output_type": "display_data"
    },
    {
     "data": {
      "text/plain": [
       "{'offensive': {'brier': 0.00913297383356254,\n",
       "  'log_loss': 0.04838631026974633,\n",
       "  'roc_auc': 0.8361678004535148},\n",
       " 'defensive': {'brier': 0.0016870561834701665,\n",
       "  'log_loss': 0.01366890293054475,\n",
       "  'roc_auc': 0.9763912310286678}}"
      ]
     },
     "execution_count": 14,
     "metadata": {},
     "output_type": "execute_result"
    }
   ],
   "source": [
    "model_pass_value = load_model(\n",
    "    'runs:/f4f4efb5f0534f03a1d513141e06c962/component',\n",
    ")\n",
    "model_pass_value.test(dataset_test)"
   ]
  },
  {
   "cell_type": "markdown",
   "id": "829e792f-05fb-4a24-a610-91ed83d38561",
   "metadata": {},
   "source": [
    "## Value creativity"
   ]
  },
  {
   "cell_type": "code",
   "execution_count": 15,
   "id": "05ba0d05-6cc7-4fff-9c6e-2ba0c6fec31e",
   "metadata": {
    "tags": []
   },
   "outputs": [],
   "source": [
    "rater = CreativeDecisionRating(\n",
    "    pass_selection_component=model_pass_selection,\n",
    "    pass_success_component=model_pass_success,\n",
    "    pass_value_component=model_pass_value\n",
    ")"
   ]
  },
  {
   "cell_type": "code",
   "execution_count": 16,
   "id": "b1f0fb24-2cd8-444a-9c7f-d4309cc4e801",
   "metadata": {
    "tags": []
   },
   "outputs": [
    {
     "data": {
      "text/html": [
       "<pre style=\"white-space:pre;overflow-x:auto;line-height:normal;font-family:Menlo,'DejaVu Sans Mono',consolas,'Courier New',monospace\"><span style=\"color: #7fbfbf; text-decoration-color: #7fbfbf\">                    </span><span style=\"color: #000080; text-decoration-color: #000080\">INFO    </span> Loading dataset from ..<span style=\"color: #800080; text-decoration-color: #800080\">/stores/datasets/euro2020/</span><span style=\"color: #ff00ff; text-decoration-color: #ff00ff\">test</span>                  <a href=\"file:///cw/dtaijupiter/NoCsBack/dtai/pieterr/Projects/soccer-unxpass-public/.venv/lib/python3.9/site-packages/lightning_utilities/core/rank_zero.py\" target=\"_blank\"><span style=\"color: #7f7f7f; text-decoration-color: #7f7f7f\">rank_zero.py</span></a><span style=\"color: #7f7f7f; text-decoration-color: #7f7f7f\">:</span><a href=\"file:///cw/dtaijupiter/NoCsBack/dtai/pieterr/Projects/soccer-unxpass-public/.venv/lib/python3.9/site-packages/lightning_utilities/core/rank_zero.py#32\" target=\"_blank\"><span style=\"color: #7f7f7f; text-decoration-color: #7f7f7f\">32</span></a>\n",
       "</pre>\n"
      ],
      "text/plain": [
       "\u001b[2;36m                   \u001b[0m\u001b[2;36m \u001b[0m\u001b[34mINFO    \u001b[0m Loading dataset from ..\u001b[35m/stores/datasets/euro2020/\u001b[0m\u001b[95mtest\u001b[0m                  \u001b]8;id=901559;file:///cw/dtaijupiter/NoCsBack/dtai/pieterr/Projects/soccer-unxpass-public/.venv/lib/python3.9/site-packages/lightning_utilities/core/rank_zero.py\u001b\\\u001b[2mrank_zero.py\u001b[0m\u001b]8;;\u001b\\\u001b[2m:\u001b[0m\u001b]8;id=793459;file:///cw/dtaijupiter/NoCsBack/dtai/pieterr/Projects/soccer-unxpass-public/.venv/lib/python3.9/site-packages/lightning_utilities/core/rank_zero.py#32\u001b\\\u001b[2m32\u001b[0m\u001b]8;;\u001b\\\n"
      ]
     },
     "metadata": {},
     "output_type": "display_data"
    },
    {
     "data": {
      "text/html": [
       "<pre style=\"white-space:pre;overflow-x:auto;line-height:normal;font-family:Menlo,'DejaVu Sans Mono',consolas,'Courier New',monospace\"><span style=\"color: #7fbfbf; text-decoration-color: #7fbfbf\">                    </span><span style=\"color: #000080; text-decoration-color: #000080\">INFO    </span> Loading dataset from ..<span style=\"color: #800080; text-decoration-color: #800080\">/stores/datasets/euro2020/</span><span style=\"color: #ff00ff; text-decoration-color: #ff00ff\">test</span>                  <a href=\"file:///cw/dtaijupiter/NoCsBack/dtai/pieterr/Projects/soccer-unxpass-public/.venv/lib/python3.9/site-packages/lightning_utilities/core/rank_zero.py\" target=\"_blank\"><span style=\"color: #7f7f7f; text-decoration-color: #7f7f7f\">rank_zero.py</span></a><span style=\"color: #7f7f7f; text-decoration-color: #7f7f7f\">:</span><a href=\"file:///cw/dtaijupiter/NoCsBack/dtai/pieterr/Projects/soccer-unxpass-public/.venv/lib/python3.9/site-packages/lightning_utilities/core/rank_zero.py#32\" target=\"_blank\"><span style=\"color: #7f7f7f; text-decoration-color: #7f7f7f\">32</span></a>\n",
       "</pre>\n"
      ],
      "text/plain": [
       "\u001b[2;36m                   \u001b[0m\u001b[2;36m \u001b[0m\u001b[34mINFO    \u001b[0m Loading dataset from ..\u001b[35m/stores/datasets/euro2020/\u001b[0m\u001b[95mtest\u001b[0m                  \u001b]8;id=253749;file:///cw/dtaijupiter/NoCsBack/dtai/pieterr/Projects/soccer-unxpass-public/.venv/lib/python3.9/site-packages/lightning_utilities/core/rank_zero.py\u001b\\\u001b[2mrank_zero.py\u001b[0m\u001b]8;;\u001b\\\u001b[2m:\u001b[0m\u001b]8;id=617024;file:///cw/dtaijupiter/NoCsBack/dtai/pieterr/Projects/soccer-unxpass-public/.venv/lib/python3.9/site-packages/lightning_utilities/core/rank_zero.py#32\u001b\\\u001b[2m32\u001b[0m\u001b]8;;\u001b\\\n"
      ]
     },
     "metadata": {},
     "output_type": "display_data"
    },
    {
     "name": "stderr",
     "output_type": "stream",
     "text": [
      "GPU available: False, used: False\n",
      "TPU available: False, using: 0 TPU cores\n",
      "IPU available: False, using: 0 IPUs\n",
      "HPU available: False, using: 0 HPUs\n"
     ]
    },
    {
     "name": "stdout",
     "output_type": "stream",
     "text": [
      "Predicting DataLoader 0: 100%|████████████████████████████████████████████████████████████████████████████████████████████████████████████████████████████████████████████████████████████████████████████████████████████████████████████████| 594/594 [00:09<00:00, 64.72it/s]\n"
     ]
    },
    {
     "data": {
      "text/html": [
       "<pre style=\"white-space:pre;overflow-x:auto;line-height:normal;font-family:Menlo,'DejaVu Sans Mono',consolas,'Courier New',monospace\"><span style=\"color: #7fbfbf; text-decoration-color: #7fbfbf\">[07/17/23 12:03:14] </span><span style=\"color: #000080; text-decoration-color: #000080\">INFO    </span> Loading dataset from ..<span style=\"color: #800080; text-decoration-color: #800080\">/stores/datasets/euro2020/</span><span style=\"color: #ff00ff; text-decoration-color: #ff00ff\">test</span>                  <a href=\"file:///cw/dtaijupiter/NoCsBack/dtai/pieterr/Projects/soccer-unxpass-public/.venv/lib/python3.9/site-packages/lightning_utilities/core/rank_zero.py\" target=\"_blank\"><span style=\"color: #7f7f7f; text-decoration-color: #7f7f7f\">rank_zero.py</span></a><span style=\"color: #7f7f7f; text-decoration-color: #7f7f7f\">:</span><a href=\"file:///cw/dtaijupiter/NoCsBack/dtai/pieterr/Projects/soccer-unxpass-public/.venv/lib/python3.9/site-packages/lightning_utilities/core/rank_zero.py#32\" target=\"_blank\"><span style=\"color: #7f7f7f; text-decoration-color: #7f7f7f\">32</span></a>\n",
       "</pre>\n"
      ],
      "text/plain": [
       "\u001b[2;36m[07/17/23 12:03:14]\u001b[0m\u001b[2;36m \u001b[0m\u001b[34mINFO    \u001b[0m Loading dataset from ..\u001b[35m/stores/datasets/euro2020/\u001b[0m\u001b[95mtest\u001b[0m                  \u001b]8;id=248130;file:///cw/dtaijupiter/NoCsBack/dtai/pieterr/Projects/soccer-unxpass-public/.venv/lib/python3.9/site-packages/lightning_utilities/core/rank_zero.py\u001b\\\u001b[2mrank_zero.py\u001b[0m\u001b]8;;\u001b\\\u001b[2m:\u001b[0m\u001b]8;id=745630;file:///cw/dtaijupiter/NoCsBack/dtai/pieterr/Projects/soccer-unxpass-public/.venv/lib/python3.9/site-packages/lightning_utilities/core/rank_zero.py#32\u001b\\\u001b[2m32\u001b[0m\u001b]8;;\u001b\\\n"
      ]
     },
     "metadata": {},
     "output_type": "display_data"
    },
    {
     "data": {
      "text/html": [
       "<pre style=\"white-space:pre;overflow-x:auto;line-height:normal;font-family:Menlo,'DejaVu Sans Mono',consolas,'Courier New',monospace\"></pre>\n"
      ],
      "text/plain": []
     },
     "metadata": {},
     "output_type": "display_data"
    },
    {
     "data": {
      "text/html": [
       "<pre style=\"white-space:pre;overflow-x:auto;line-height:normal;font-family:Menlo,'DejaVu Sans Mono',consolas,'Courier New',monospace\">\n",
       "</pre>\n"
      ],
      "text/plain": [
       "\n"
      ]
     },
     "metadata": {},
     "output_type": "display_data"
    },
    {
     "data": {
      "text/html": [
       "<pre style=\"white-space:pre;overflow-x:auto;line-height:normal;font-family:Menlo,'DejaVu Sans Mono',consolas,'Courier New',monospace\"></pre>\n"
      ],
      "text/plain": []
     },
     "metadata": {},
     "output_type": "display_data"
    },
    {
     "data": {
      "text/html": [
       "<pre style=\"white-space:pre;overflow-x:auto;line-height:normal;font-family:Menlo,'DejaVu Sans Mono',consolas,'Courier New',monospace\">\n",
       "</pre>\n"
      ],
      "text/plain": [
       "\n"
      ]
     },
     "metadata": {},
     "output_type": "display_data"
    },
    {
     "data": {
      "text/html": [
       "<pre style=\"white-space:pre;overflow-x:auto;line-height:normal;font-family:Menlo,'DejaVu Sans Mono',consolas,'Courier New',monospace\"></pre>\n"
      ],
      "text/plain": []
     },
     "metadata": {},
     "output_type": "display_data"
    },
    {
     "data": {
      "text/html": [
       "<pre style=\"white-space:pre;overflow-x:auto;line-height:normal;font-family:Menlo,'DejaVu Sans Mono',consolas,'Courier New',monospace\">\n",
       "</pre>\n"
      ],
      "text/plain": [
       "\n"
      ]
     },
     "metadata": {},
     "output_type": "display_data"
    },
    {
     "data": {
      "text/html": [
       "<pre style=\"white-space:pre;overflow-x:auto;line-height:normal;font-family:Menlo,'DejaVu Sans Mono',consolas,'Courier New',monospace\"></pre>\n"
      ],
      "text/plain": []
     },
     "metadata": {},
     "output_type": "display_data"
    },
    {
     "data": {
      "text/html": [
       "<pre style=\"white-space:pre;overflow-x:auto;line-height:normal;font-family:Menlo,'DejaVu Sans Mono',consolas,'Courier New',monospace\">\n",
       "</pre>\n"
      ],
      "text/plain": [
       "\n"
      ]
     },
     "metadata": {},
     "output_type": "display_data"
    },
    {
     "data": {
      "text/html": [
       "<pre style=\"white-space:pre;overflow-x:auto;line-height:normal;font-family:Menlo,'DejaVu Sans Mono',consolas,'Courier New',monospace\"></pre>\n"
      ],
      "text/plain": []
     },
     "metadata": {},
     "output_type": "display_data"
    },
    {
     "data": {
      "text/html": [
       "<pre style=\"white-space:pre;overflow-x:auto;line-height:normal;font-family:Menlo,'DejaVu Sans Mono',consolas,'Courier New',monospace\">\n",
       "</pre>\n"
      ],
      "text/plain": [
       "\n"
      ]
     },
     "metadata": {},
     "output_type": "display_data"
    },
    {
     "data": {
      "text/html": [
       "<pre style=\"white-space:pre;overflow-x:auto;line-height:normal;font-family:Menlo,'DejaVu Sans Mono',consolas,'Courier New',monospace\"></pre>\n"
      ],
      "text/plain": []
     },
     "metadata": {},
     "output_type": "display_data"
    },
    {
     "data": {
      "text/html": [
       "<pre style=\"white-space:pre;overflow-x:auto;line-height:normal;font-family:Menlo,'DejaVu Sans Mono',consolas,'Courier New',monospace\">\n",
       "</pre>\n"
      ],
      "text/plain": [
       "\n"
      ]
     },
     "metadata": {},
     "output_type": "display_data"
    },
    {
     "data": {
      "text/html": [
       "<pre style=\"white-space:pre;overflow-x:auto;line-height:normal;font-family:Menlo,'DejaVu Sans Mono',consolas,'Courier New',monospace\"></pre>\n"
      ],
      "text/plain": []
     },
     "metadata": {},
     "output_type": "display_data"
    },
    {
     "data": {
      "text/html": [
       "<pre style=\"white-space:pre;overflow-x:auto;line-height:normal;font-family:Menlo,'DejaVu Sans Mono',consolas,'Courier New',monospace\">\n",
       "</pre>\n"
      ],
      "text/plain": [
       "\n"
      ]
     },
     "metadata": {},
     "output_type": "display_data"
    },
    {
     "data": {
      "text/html": [
       "<pre style=\"white-space:pre;overflow-x:auto;line-height:normal;font-family:Menlo,'DejaVu Sans Mono',consolas,'Courier New',monospace\"><span style=\"color: #7fbfbf; text-decoration-color: #7fbfbf\">[07/17/23 12:03:50] </span><span style=\"color: #000080; text-decoration-color: #000080\">INFO    </span> Loading dataset from ..<span style=\"color: #800080; text-decoration-color: #800080\">/stores/datasets/euro2020/</span><span style=\"color: #ff00ff; text-decoration-color: #ff00ff\">test</span>                  <a href=\"file:///cw/dtaijupiter/NoCsBack/dtai/pieterr/Projects/soccer-unxpass-public/.venv/lib/python3.9/site-packages/lightning_utilities/core/rank_zero.py\" target=\"_blank\"><span style=\"color: #7f7f7f; text-decoration-color: #7f7f7f\">rank_zero.py</span></a><span style=\"color: #7f7f7f; text-decoration-color: #7f7f7f\">:</span><a href=\"file:///cw/dtaijupiter/NoCsBack/dtai/pieterr/Projects/soccer-unxpass-public/.venv/lib/python3.9/site-packages/lightning_utilities/core/rank_zero.py#32\" target=\"_blank\"><span style=\"color: #7f7f7f; text-decoration-color: #7f7f7f\">32</span></a>\n",
       "</pre>\n"
      ],
      "text/plain": [
       "\u001b[2;36m[07/17/23 12:03:50]\u001b[0m\u001b[2;36m \u001b[0m\u001b[34mINFO    \u001b[0m Loading dataset from ..\u001b[35m/stores/datasets/euro2020/\u001b[0m\u001b[95mtest\u001b[0m                  \u001b]8;id=102762;file:///cw/dtaijupiter/NoCsBack/dtai/pieterr/Projects/soccer-unxpass-public/.venv/lib/python3.9/site-packages/lightning_utilities/core/rank_zero.py\u001b\\\u001b[2mrank_zero.py\u001b[0m\u001b]8;;\u001b\\\u001b[2m:\u001b[0m\u001b]8;id=315789;file:///cw/dtaijupiter/NoCsBack/dtai/pieterr/Projects/soccer-unxpass-public/.venv/lib/python3.9/site-packages/lightning_utilities/core/rank_zero.py#32\u001b\\\u001b[2m32\u001b[0m\u001b]8;;\u001b\\\n"
      ]
     },
     "metadata": {},
     "output_type": "display_data"
    },
    {
     "data": {
      "text/html": [
       "<pre style=\"white-space:pre;overflow-x:auto;line-height:normal;font-family:Menlo,'DejaVu Sans Mono',consolas,'Courier New',monospace\"></pre>\n"
      ],
      "text/plain": []
     },
     "metadata": {},
     "output_type": "display_data"
    },
    {
     "data": {
      "text/html": [
       "<pre style=\"white-space:pre;overflow-x:auto;line-height:normal;font-family:Menlo,'DejaVu Sans Mono',consolas,'Courier New',monospace\">\n",
       "</pre>\n"
      ],
      "text/plain": [
       "\n"
      ]
     },
     "metadata": {},
     "output_type": "display_data"
    },
    {
     "data": {
      "text/html": [
       "<pre style=\"white-space:pre;overflow-x:auto;line-height:normal;font-family:Menlo,'DejaVu Sans Mono',consolas,'Courier New',monospace\"></pre>\n"
      ],
      "text/plain": []
     },
     "metadata": {},
     "output_type": "display_data"
    },
    {
     "data": {
      "text/html": [
       "<pre style=\"white-space:pre;overflow-x:auto;line-height:normal;font-family:Menlo,'DejaVu Sans Mono',consolas,'Courier New',monospace\">\n",
       "</pre>\n"
      ],
      "text/plain": [
       "\n"
      ]
     },
     "metadata": {},
     "output_type": "display_data"
    },
    {
     "data": {
      "text/html": [
       "<pre style=\"white-space:pre;overflow-x:auto;line-height:normal;font-family:Menlo,'DejaVu Sans Mono',consolas,'Courier New',monospace\"></pre>\n"
      ],
      "text/plain": []
     },
     "metadata": {},
     "output_type": "display_data"
    },
    {
     "data": {
      "text/html": [
       "<pre style=\"white-space:pre;overflow-x:auto;line-height:normal;font-family:Menlo,'DejaVu Sans Mono',consolas,'Courier New',monospace\">\n",
       "</pre>\n"
      ],
      "text/plain": [
       "\n"
      ]
     },
     "metadata": {},
     "output_type": "display_data"
    },
    {
     "data": {
      "text/html": [
       "<pre style=\"white-space:pre;overflow-x:auto;line-height:normal;font-family:Menlo,'DejaVu Sans Mono',consolas,'Courier New',monospace\"></pre>\n"
      ],
      "text/plain": []
     },
     "metadata": {},
     "output_type": "display_data"
    },
    {
     "data": {
      "text/html": [
       "<pre style=\"white-space:pre;overflow-x:auto;line-height:normal;font-family:Menlo,'DejaVu Sans Mono',consolas,'Courier New',monospace\">\n",
       "</pre>\n"
      ],
      "text/plain": [
       "\n"
      ]
     },
     "metadata": {},
     "output_type": "display_data"
    },
    {
     "data": {
      "text/html": [
       "<pre style=\"white-space:pre;overflow-x:auto;line-height:normal;font-family:Menlo,'DejaVu Sans Mono',consolas,'Courier New',monospace\"></pre>\n"
      ],
      "text/plain": []
     },
     "metadata": {},
     "output_type": "display_data"
    },
    {
     "data": {
      "text/html": [
       "<pre style=\"white-space:pre;overflow-x:auto;line-height:normal;font-family:Menlo,'DejaVu Sans Mono',consolas,'Courier New',monospace\">\n",
       "</pre>\n"
      ],
      "text/plain": [
       "\n"
      ]
     },
     "metadata": {},
     "output_type": "display_data"
    },
    {
     "data": {
      "text/html": [
       "<pre style=\"white-space:pre;overflow-x:auto;line-height:normal;font-family:Menlo,'DejaVu Sans Mono',consolas,'Courier New',monospace\"></pre>\n"
      ],
      "text/plain": []
     },
     "metadata": {},
     "output_type": "display_data"
    },
    {
     "data": {
      "text/html": [
       "<pre style=\"white-space:pre;overflow-x:auto;line-height:normal;font-family:Menlo,'DejaVu Sans Mono',consolas,'Courier New',monospace\">\n",
       "</pre>\n"
      ],
      "text/plain": [
       "\n"
      ]
     },
     "metadata": {},
     "output_type": "display_data"
    },
    {
     "data": {
      "text/html": [
       "<pre style=\"white-space:pre;overflow-x:auto;line-height:normal;font-family:Menlo,'DejaVu Sans Mono',consolas,'Courier New',monospace\"></pre>\n"
      ],
      "text/plain": []
     },
     "metadata": {},
     "output_type": "display_data"
    },
    {
     "data": {
      "text/html": [
       "<pre style=\"white-space:pre;overflow-x:auto;line-height:normal;font-family:Menlo,'DejaVu Sans Mono',consolas,'Courier New',monospace\">\n",
       "</pre>\n"
      ],
      "text/plain": [
       "\n"
      ]
     },
     "metadata": {},
     "output_type": "display_data"
    },
    {
     "data": {
      "text/html": [
       "<pre style=\"white-space:pre;overflow-x:auto;line-height:normal;font-family:Menlo,'DejaVu Sans Mono',consolas,'Courier New',monospace\"></pre>\n"
      ],
      "text/plain": []
     },
     "metadata": {},
     "output_type": "display_data"
    },
    {
     "data": {
      "text/html": [
       "<pre style=\"white-space:pre;overflow-x:auto;line-height:normal;font-family:Menlo,'DejaVu Sans Mono',consolas,'Courier New',monospace\">\n",
       "</pre>\n"
      ],
      "text/plain": [
       "\n"
      ]
     },
     "metadata": {},
     "output_type": "display_data"
    },
    {
     "data": {
      "text/html": [
       "<pre style=\"white-space:pre;overflow-x:auto;line-height:normal;font-family:Menlo,'DejaVu Sans Mono',consolas,'Courier New',monospace\"></pre>\n"
      ],
      "text/plain": []
     },
     "metadata": {},
     "output_type": "display_data"
    },
    {
     "data": {
      "text/html": [
       "<pre style=\"white-space:pre;overflow-x:auto;line-height:normal;font-family:Menlo,'DejaVu Sans Mono',consolas,'Courier New',monospace\">\n",
       "</pre>\n"
      ],
      "text/plain": [
       "\n"
      ]
     },
     "metadata": {},
     "output_type": "display_data"
    },
    {
     "data": {
      "text/html": [
       "<pre style=\"white-space:pre;overflow-x:auto;line-height:normal;font-family:Menlo,'DejaVu Sans Mono',consolas,'Courier New',monospace\"></pre>\n"
      ],
      "text/plain": []
     },
     "metadata": {},
     "output_type": "display_data"
    },
    {
     "data": {
      "text/html": [
       "<pre style=\"white-space:pre;overflow-x:auto;line-height:normal;font-family:Menlo,'DejaVu Sans Mono',consolas,'Courier New',monospace\">\n",
       "</pre>\n"
      ],
      "text/plain": [
       "\n"
      ]
     },
     "metadata": {},
     "output_type": "display_data"
    },
    {
     "data": {
      "text/html": [
       "<pre style=\"white-space:pre;overflow-x:auto;line-height:normal;font-family:Menlo,'DejaVu Sans Mono',consolas,'Courier New',monospace\"></pre>\n"
      ],
      "text/plain": []
     },
     "metadata": {},
     "output_type": "display_data"
    },
    {
     "data": {
      "text/html": [
       "<pre style=\"white-space:pre;overflow-x:auto;line-height:normal;font-family:Menlo,'DejaVu Sans Mono',consolas,'Courier New',monospace\">\n",
       "</pre>\n"
      ],
      "text/plain": [
       "\n"
      ]
     },
     "metadata": {},
     "output_type": "display_data"
    },
    {
     "data": {
      "text/html": [
       "<pre style=\"white-space:pre;overflow-x:auto;line-height:normal;font-family:Menlo,'DejaVu Sans Mono',consolas,'Courier New',monospace\"></pre>\n"
      ],
      "text/plain": []
     },
     "metadata": {},
     "output_type": "display_data"
    },
    {
     "data": {
      "text/html": [
       "<pre style=\"white-space:pre;overflow-x:auto;line-height:normal;font-family:Menlo,'DejaVu Sans Mono',consolas,'Courier New',monospace\">\n",
       "</pre>\n"
      ],
      "text/plain": [
       "\n"
      ]
     },
     "metadata": {},
     "output_type": "display_data"
    },
    {
     "data": {
      "text/html": [
       "<pre style=\"white-space:pre;overflow-x:auto;line-height:normal;font-family:Menlo,'DejaVu Sans Mono',consolas,'Courier New',monospace\"></pre>\n"
      ],
      "text/plain": []
     },
     "metadata": {},
     "output_type": "display_data"
    },
    {
     "data": {
      "text/html": [
       "<pre style=\"white-space:pre;overflow-x:auto;line-height:normal;font-family:Menlo,'DejaVu Sans Mono',consolas,'Courier New',monospace\">\n",
       "</pre>\n"
      ],
      "text/plain": [
       "\n"
      ]
     },
     "metadata": {},
     "output_type": "display_data"
    },
    {
     "data": {
      "text/html": [
       "<pre style=\"white-space:pre;overflow-x:auto;line-height:normal;font-family:Menlo,'DejaVu Sans Mono',consolas,'Courier New',monospace\"></pre>\n"
      ],
      "text/plain": []
     },
     "metadata": {},
     "output_type": "display_data"
    },
    {
     "data": {
      "text/html": [
       "<pre style=\"white-space:pre;overflow-x:auto;line-height:normal;font-family:Menlo,'DejaVu Sans Mono',consolas,'Courier New',monospace\">\n",
       "</pre>\n"
      ],
      "text/plain": [
       "\n"
      ]
     },
     "metadata": {},
     "output_type": "display_data"
    },
    {
     "data": {
      "text/html": [
       "<pre style=\"white-space:pre;overflow-x:auto;line-height:normal;font-family:Menlo,'DejaVu Sans Mono',consolas,'Courier New',monospace\"></pre>\n"
      ],
      "text/plain": []
     },
     "metadata": {},
     "output_type": "display_data"
    },
    {
     "data": {
      "text/html": [
       "<pre style=\"white-space:pre;overflow-x:auto;line-height:normal;font-family:Menlo,'DejaVu Sans Mono',consolas,'Courier New',monospace\">\n",
       "</pre>\n"
      ],
      "text/plain": [
       "\n"
      ]
     },
     "metadata": {},
     "output_type": "display_data"
    },
    {
     "data": {
      "text/html": [
       "<pre style=\"white-space:pre;overflow-x:auto;line-height:normal;font-family:Menlo,'DejaVu Sans Mono',consolas,'Courier New',monospace\"></pre>\n"
      ],
      "text/plain": []
     },
     "metadata": {},
     "output_type": "display_data"
    },
    {
     "data": {
      "text/html": [
       "<pre style=\"white-space:pre;overflow-x:auto;line-height:normal;font-family:Menlo,'DejaVu Sans Mono',consolas,'Courier New',monospace\">\n",
       "</pre>\n"
      ],
      "text/plain": [
       "\n"
      ]
     },
     "metadata": {},
     "output_type": "display_data"
    },
    {
     "data": {
      "text/html": [
       "<pre style=\"white-space:pre;overflow-x:auto;line-height:normal;font-family:Menlo,'DejaVu Sans Mono',consolas,'Courier New',monospace\"></pre>\n"
      ],
      "text/plain": []
     },
     "metadata": {},
     "output_type": "display_data"
    },
    {
     "data": {
      "text/html": [
       "<pre style=\"white-space:pre;overflow-x:auto;line-height:normal;font-family:Menlo,'DejaVu Sans Mono',consolas,'Courier New',monospace\">\n",
       "</pre>\n"
      ],
      "text/plain": [
       "\n"
      ]
     },
     "metadata": {},
     "output_type": "display_data"
    },
    {
     "data": {
      "text/html": [
       "<pre style=\"white-space:pre;overflow-x:auto;line-height:normal;font-family:Menlo,'DejaVu Sans Mono',consolas,'Courier New',monospace\"></pre>\n"
      ],
      "text/plain": []
     },
     "metadata": {},
     "output_type": "display_data"
    },
    {
     "data": {
      "text/html": [
       "<pre style=\"white-space:pre;overflow-x:auto;line-height:normal;font-family:Menlo,'DejaVu Sans Mono',consolas,'Courier New',monospace\">\n",
       "</pre>\n"
      ],
      "text/plain": [
       "\n"
      ]
     },
     "metadata": {},
     "output_type": "display_data"
    },
    {
     "data": {
      "text/html": [
       "<pre style=\"white-space:pre;overflow-x:auto;line-height:normal;font-family:Menlo,'DejaVu Sans Mono',consolas,'Courier New',monospace\"></pre>\n"
      ],
      "text/plain": []
     },
     "metadata": {},
     "output_type": "display_data"
    },
    {
     "data": {
      "text/html": [
       "<pre style=\"white-space:pre;overflow-x:auto;line-height:normal;font-family:Menlo,'DejaVu Sans Mono',consolas,'Courier New',monospace\">\n",
       "</pre>\n"
      ],
      "text/plain": [
       "\n"
      ]
     },
     "metadata": {},
     "output_type": "display_data"
    },
    {
     "data": {
      "text/html": [
       "<pre style=\"white-space:pre;overflow-x:auto;line-height:normal;font-family:Menlo,'DejaVu Sans Mono',consolas,'Courier New',monospace\"></pre>\n"
      ],
      "text/plain": []
     },
     "metadata": {},
     "output_type": "display_data"
    },
    {
     "data": {
      "text/html": [
       "<pre style=\"white-space:pre;overflow-x:auto;line-height:normal;font-family:Menlo,'DejaVu Sans Mono',consolas,'Courier New',monospace\">\n",
       "</pre>\n"
      ],
      "text/plain": [
       "\n"
      ]
     },
     "metadata": {},
     "output_type": "display_data"
    },
    {
     "data": {
      "text/html": [
       "<pre style=\"white-space:pre;overflow-x:auto;line-height:normal;font-family:Menlo,'DejaVu Sans Mono',consolas,'Courier New',monospace\"></pre>\n"
      ],
      "text/plain": []
     },
     "metadata": {},
     "output_type": "display_data"
    },
    {
     "data": {
      "text/html": [
       "<pre style=\"white-space:pre;overflow-x:auto;line-height:normal;font-family:Menlo,'DejaVu Sans Mono',consolas,'Courier New',monospace\">\n",
       "</pre>\n"
      ],
      "text/plain": [
       "\n"
      ]
     },
     "metadata": {},
     "output_type": "display_data"
    },
    {
     "data": {
      "text/html": [
       "<pre style=\"white-space:pre;overflow-x:auto;line-height:normal;font-family:Menlo,'DejaVu Sans Mono',consolas,'Courier New',monospace\"></pre>\n"
      ],
      "text/plain": []
     },
     "metadata": {},
     "output_type": "display_data"
    },
    {
     "data": {
      "text/html": [
       "<pre style=\"white-space:pre;overflow-x:auto;line-height:normal;font-family:Menlo,'DejaVu Sans Mono',consolas,'Courier New',monospace\">\n",
       "</pre>\n"
      ],
      "text/plain": [
       "\n"
      ]
     },
     "metadata": {},
     "output_type": "display_data"
    },
    {
     "data": {
      "text/html": [
       "<pre style=\"white-space:pre;overflow-x:auto;line-height:normal;font-family:Menlo,'DejaVu Sans Mono',consolas,'Courier New',monospace\"></pre>\n"
      ],
      "text/plain": []
     },
     "metadata": {},
     "output_type": "display_data"
    },
    {
     "data": {
      "text/html": [
       "<pre style=\"white-space:pre;overflow-x:auto;line-height:normal;font-family:Menlo,'DejaVu Sans Mono',consolas,'Courier New',monospace\">\n",
       "</pre>\n"
      ],
      "text/plain": [
       "\n"
      ]
     },
     "metadata": {},
     "output_type": "display_data"
    },
    {
     "data": {
      "text/html": [
       "<pre style=\"white-space:pre;overflow-x:auto;line-height:normal;font-family:Menlo,'DejaVu Sans Mono',consolas,'Courier New',monospace\"></pre>\n"
      ],
      "text/plain": []
     },
     "metadata": {},
     "output_type": "display_data"
    },
    {
     "data": {
      "text/html": [
       "<pre style=\"white-space:pre;overflow-x:auto;line-height:normal;font-family:Menlo,'DejaVu Sans Mono',consolas,'Courier New',monospace\">\n",
       "</pre>\n"
      ],
      "text/plain": [
       "\n"
      ]
     },
     "metadata": {},
     "output_type": "display_data"
    },
    {
     "data": {
      "text/html": [
       "<pre style=\"white-space:pre;overflow-x:auto;line-height:normal;font-family:Menlo,'DejaVu Sans Mono',consolas,'Courier New',monospace\"></pre>\n"
      ],
      "text/plain": []
     },
     "metadata": {},
     "output_type": "display_data"
    },
    {
     "data": {
      "text/html": [
       "<pre style=\"white-space:pre;overflow-x:auto;line-height:normal;font-family:Menlo,'DejaVu Sans Mono',consolas,'Courier New',monospace\">\n",
       "</pre>\n"
      ],
      "text/plain": [
       "\n"
      ]
     },
     "metadata": {},
     "output_type": "display_data"
    },
    {
     "data": {
      "text/html": [
       "<pre style=\"white-space:pre;overflow-x:auto;line-height:normal;font-family:Menlo,'DejaVu Sans Mono',consolas,'Courier New',monospace\"></pre>\n"
      ],
      "text/plain": []
     },
     "metadata": {},
     "output_type": "display_data"
    },
    {
     "data": {
      "text/html": [
       "<pre style=\"white-space:pre;overflow-x:auto;line-height:normal;font-family:Menlo,'DejaVu Sans Mono',consolas,'Courier New',monospace\">\n",
       "</pre>\n"
      ],
      "text/plain": [
       "\n"
      ]
     },
     "metadata": {},
     "output_type": "display_data"
    },
    {
     "data": {
      "text/plain": [
       "start_x                  33.705882\n",
       "start_y                    9.98481\n",
       "true_end_x               21.088235\n",
       "true_end_y               28.663291\n",
       "success                       True\n",
       "typical_end_x              45.9375\n",
       "typical_end_y                  0.5\n",
       "true_p_success            0.998893\n",
       "typical_p_success         0.992608\n",
       "true_value_success        0.002047\n",
       "typical_value_success     0.002685\n",
       "true_value_fail          -0.022069\n",
       "typical_value_fail        -0.00076\n",
       "CDR                      -0.000651\n",
       "Name: (3795506, 4), dtype: object"
      ]
     },
     "execution_count": 16,
     "metadata": {},
     "output_type": "execute_result"
    }
   ],
   "source": [
    "df_ratings = rater.rate(db, dataset_test)\n",
    "df_ratings.loc[SAMPLE]"
   ]
  },
  {
   "cell_type": "code",
   "execution_count": null,
   "id": "66fbcb7a-6be9-4937-b21d-977b9439cbd9",
   "metadata": {},
   "outputs": [],
   "source": []
  }
 ],
 "metadata": {
  "kernelspec": {
   "display_name": "/home/pieterr/Jupiter/Projects/soccer-unxpass-public",
   "language": "python",
   "name": "soccer-unxpass-public"
  },
  "language_info": {
   "codemirror_mode": {
    "name": "ipython",
    "version": 3
   },
   "file_extension": ".py",
   "mimetype": "text/x-python",
   "name": "python",
   "nbconvert_exporter": "python",
   "pygments_lexer": "ipython3",
   "version": "3.9.6"
  },
  "toc": {
   "base_numbering": 1,
   "nav_menu": {},
   "number_sections": true,
   "sideBar": true,
   "skip_h1_title": false,
   "title_cell": "Table of Contents",
   "title_sidebar": "Contents",
   "toc_cell": false,
   "toc_position": {
    "height": "calc(100% - 180px)",
    "left": "10px",
    "top": "150px",
    "width": "373.594px"
   },
   "toc_section_display": true,
   "toc_window_display": true
  }
 },
 "nbformat": 4,
 "nbformat_minor": 5
}
